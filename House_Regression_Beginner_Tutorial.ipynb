{
  "metadata": {
    "kernelspec": {
      "language": "python",
      "display_name": "Python 3",
      "name": "python3"
    },
    "language_info": {
      "name": "python",
      "version": "3.10.13",
      "mimetype": "text/x-python",
      "codemirror_mode": {
        "name": "ipython",
        "version": 3
      },
      "pygments_lexer": "ipython3",
      "nbconvert_exporter": "python",
      "file_extension": ".py"
    },
    "kaggle": {
      "accelerator": "none",
      "dataSources": [
        {
          "sourceId": 5407,
          "databundleVersionId": 868283,
          "sourceType": "competition"
        },
        {
          "sourceId": 8891534,
          "sourceType": "datasetVersion",
          "datasetId": 5347562
        }
      ],
      "dockerImageVersionId": 30732,
      "isInternetEnabled": true,
      "language": "python",
      "sourceType": "notebook",
      "isGpuEnabled": false
    },
    "colab": {
      "name": "House Regression: Beginner Tutorial",
      "provenance": [],
      "include_colab_link": true
    }
  },
  "nbformat_minor": 0,
  "nbformat": 4,
  "cells": [
    {
      "cell_type": "markdown",
      "metadata": {
        "id": "view-in-github",
        "colab_type": "text"
      },
      "source": [
        "<a href=\"https://colab.research.google.com/github/hellfer/Kaggle/blob/main/House_Regression_Beginner_Tutorial.ipynb\" target=\"_parent\"><img src=\"https://colab.research.google.com/assets/colab-badge.svg\" alt=\"Open In Colab\"/></a>"
      ]
    },
    {
      "source": [
        "\n",
        "# IMPORTANT: RUN THIS CELL IN ORDER TO IMPORT YOUR KAGGLE DATA SOURCES\n",
        "# TO THE CORRECT LOCATION (/kaggle/input) IN YOUR NOTEBOOK,\n",
        "# THEN FEEL FREE TO DELETE THIS CELL.\n",
        "# NOTE: THIS NOTEBOOK ENVIRONMENT DIFFERS FROM KAGGLE'S PYTHON\n",
        "# ENVIRONMENT SO THERE MAY BE MISSING LIBRARIES USED BY YOUR\n",
        "# NOTEBOOK.\n",
        "\n",
        "import os\n",
        "import sys\n",
        "from tempfile import NamedTemporaryFile\n",
        "from urllib.request import urlopen\n",
        "from urllib.parse import unquote, urlparse\n",
        "from urllib.error import HTTPError\n",
        "from zipfile import ZipFile\n",
        "import tarfile\n",
        "import shutil\n",
        "\n",
        "CHUNK_SIZE = 40960\n",
        "DATA_SOURCE_MAPPING = 'house-prices-advanced-regression-techniques:https%3A%2F%2Fstorage.googleapis.com%2Fkaggle-competitions-data%2Fkaggle-v2%2F5407%2F868283%2Fbundle%2Farchive.zip%3FX-Goog-Algorithm%3DGOOG4-RSA-SHA256%26X-Goog-Credential%3Dgcp-kaggle-com%2540kaggle-161607.iam.gserviceaccount.com%252F20240817%252Fauto%252Fstorage%252Fgoog4_request%26X-Goog-Date%3D20240817T143523Z%26X-Goog-Expires%3D259200%26X-Goog-SignedHeaders%3Dhost%26X-Goog-Signature%3D48ed2ab0e4214b1406ae0d6b9191c4d8147ca6034d448110bf1e083314c83ef58cb9a93decb7e9840eedf4264de210323342c85ffb645cef1c81e87e5ad7806b8b5562b6b657969806f91473e30d552281e81ab5b898a620640f7295e038c96d779e80c75e0f357ec1317dfdaa9f8191666952715c73be0b5de5364b9b9afb60572837b4c8e4120802740b3f64a935e88e9857671032bd9e9c4dbd31e34a23a5dfb509d50776fcaf8f6bed723d7440eb017a0d542cbb338a110ead3417de873a67baa74a723ea8a7edf69d51273ed06f820d13dee7b8ac21c8f112c52107da4375d37cee5593b8210349d44c1e5001dc9e233a82f394edb14b5c890740a9d110,ameshousing-csv:https%3A%2F%2Fstorage.googleapis.com%2Fkaggle-data-sets%2F5347562%2F8891534%2Fbundle%2Farchive.zip%3FX-Goog-Algorithm%3DGOOG4-RSA-SHA256%26X-Goog-Credential%3Dgcp-kaggle-com%2540kaggle-161607.iam.gserviceaccount.com%252F20240817%252Fauto%252Fstorage%252Fgoog4_request%26X-Goog-Date%3D20240817T143523Z%26X-Goog-Expires%3D259200%26X-Goog-SignedHeaders%3Dhost%26X-Goog-Signature%3D3b52a1f793b9d11fc912083886174eed12e7ea314b249b810b6a0a54a0868da655c5ef138352d239b697c7584dc80840511aff2b555aa3496ae25e421c7425884761c119d5dce7978c8ebd61d7f43b99a91c7d3074126a2422f214f8a11426920261489b1731acd4a2adfc2a292b6df827ce991280742447587e07df721bfdad26915c6dba7ff3a7bb97a666b42f785799889e224b0a1b6ca009f07b7e40114279129b014a65dfd1ad847e8120bed17ec1bea4b328a42bf4d65e9ec63888d8e4ef1bcab381fc61b37deb15d9dfd6c6af2f9bd942779027d50aebd9a23a3f2ce5716964f5421aa2b99c24cfccfdadd602bdba0c084ac99d35c1b24c454c4529b7'\n",
        "\n",
        "KAGGLE_INPUT_PATH='/kaggle/input'\n",
        "KAGGLE_WORKING_PATH='/kaggle/working'\n",
        "KAGGLE_SYMLINK='kaggle'\n",
        "\n",
        "!umount /kaggle/input/ 2> /dev/null\n",
        "shutil.rmtree('/kaggle/input', ignore_errors=True)\n",
        "os.makedirs(KAGGLE_INPUT_PATH, 0o777, exist_ok=True)\n",
        "os.makedirs(KAGGLE_WORKING_PATH, 0o777, exist_ok=True)\n",
        "\n",
        "try:\n",
        "  os.symlink(KAGGLE_INPUT_PATH, os.path.join(\"..\", 'input'), target_is_directory=True)\n",
        "except FileExistsError:\n",
        "  pass\n",
        "try:\n",
        "  os.symlink(KAGGLE_WORKING_PATH, os.path.join(\"..\", 'working'), target_is_directory=True)\n",
        "except FileExistsError:\n",
        "  pass\n",
        "\n",
        "for data_source_mapping in DATA_SOURCE_MAPPING.split(','):\n",
        "    directory, download_url_encoded = data_source_mapping.split(':')\n",
        "    download_url = unquote(download_url_encoded)\n",
        "    filename = urlparse(download_url).path\n",
        "    destination_path = os.path.join(KAGGLE_INPUT_PATH, directory)\n",
        "    try:\n",
        "        with urlopen(download_url) as fileres, NamedTemporaryFile() as tfile:\n",
        "            total_length = fileres.headers['content-length']\n",
        "            print(f'Downloading {directory}, {total_length} bytes compressed')\n",
        "            dl = 0\n",
        "            data = fileres.read(CHUNK_SIZE)\n",
        "            while len(data) > 0:\n",
        "                dl += len(data)\n",
        "                tfile.write(data)\n",
        "                done = int(50 * dl / int(total_length))\n",
        "                sys.stdout.write(f\"\\r[{'=' * done}{' ' * (50-done)}] {dl} bytes downloaded\")\n",
        "                sys.stdout.flush()\n",
        "                data = fileres.read(CHUNK_SIZE)\n",
        "            if filename.endswith('.zip'):\n",
        "              with ZipFile(tfile) as zfile:\n",
        "                zfile.extractall(destination_path)\n",
        "            else:\n",
        "              with tarfile.open(tfile.name) as tarfile:\n",
        "                tarfile.extractall(destination_path)\n",
        "            print(f'\\nDownloaded and uncompressed: {directory}')\n",
        "    except HTTPError as e:\n",
        "        print(f'Failed to load (likely expired) {download_url} to path {destination_path}')\n",
        "        continue\n",
        "    except OSError as e:\n",
        "        print(f'Failed to load {download_url} to path {destination_path}')\n",
        "        continue\n",
        "\n",
        "print('Data source import complete.')\n"
      ],
      "metadata": {
        "id": "ODr4Qg7pw7hh"
      },
      "cell_type": "code",
      "outputs": [],
      "execution_count": null
    },
    {
      "cell_type": "code",
      "source": [
        "# This Python 3 environment comes with many helpful analytics libraries installed\n",
        "# It is defined by the kaggle/python Docker image: https://github.com/kaggle/docker-python\n",
        "# For example, here's several helpful packages to load\n",
        "\n",
        "import numpy as np # linear algebra\n",
        "import pandas as pd # data processing, CSV file I/O (e.g. pd.read_csv)\n",
        "\n",
        "# Input data files are available in the read-only \"../input/\" directory\n",
        "# For example, running this (by clicking run or pressing Shift+Enter) will list all files under the input directory\n",
        "\n",
        "import os\n",
        "for dirname, _, filenames in os.walk('/kaggle/input'):\n",
        "    for filename in filenames:\n",
        "        print(os.path.join(dirname, filename))\n",
        "\n",
        "# You can write up to 20GB to the current directory (/kaggle/working/) that gets preserved as output when you create a version using \"Save & Run All\"\n",
        "# You can also write temporary files to /kaggle/temp/, but they won't be saved outside of the current session"
      ],
      "metadata": {
        "_uuid": "8f2839f25d086af736a60e9eeb907d3b93b6e0e5",
        "_cell_guid": "b1076dfc-b9ad-4769-8c92-a6c4dae69d19",
        "execution": {
          "iopub.status.busy": "2024-07-07T12:31:36.969152Z",
          "iopub.execute_input": "2024-07-07T12:31:36.969589Z",
          "iopub.status.idle": "2024-07-07T12:31:36.97884Z",
          "shell.execute_reply.started": "2024-07-07T12:31:36.969555Z",
          "shell.execute_reply": "2024-07-07T12:31:36.977543Z"
        },
        "trusted": true,
        "id": "7tVIFoNKw7hj"
      },
      "execution_count": null,
      "outputs": []
    },
    {
      "cell_type": "code",
      "source": [
        "import seaborn as sns\n",
        "import matplotlib.pyplot as plt\n",
        "\n",
        "from scipy.stats import skew, norm\n",
        "import scipy.stats as stats\n",
        "import statsmodels.api as sm\n",
        "\n",
        "from sklearn.model_selection import train_test_split\n",
        "from sklearn.metrics import mean_squared_error\n",
        "from sklearn.neighbors import KNeighborsRegressor\n",
        "\n",
        "import xgboost as xgb\n",
        "from catboost import Pool\n",
        "from catboost import CatBoostRegressor\n",
        "\n",
        "import missingno as msno\n",
        "\n",
        "%matplotlib inline"
      ],
      "metadata": {
        "execution": {
          "iopub.status.busy": "2024-07-07T12:31:36.980695Z",
          "iopub.execute_input": "2024-07-07T12:31:36.981241Z",
          "iopub.status.idle": "2024-07-07T12:31:36.992484Z",
          "shell.execute_reply.started": "2024-07-07T12:31:36.981204Z",
          "shell.execute_reply": "2024-07-07T12:31:36.991346Z"
        },
        "trusted": true,
        "id": "wePxG-DXw7hj"
      },
      "execution_count": null,
      "outputs": []
    },
    {
      "cell_type": "code",
      "source": [
        "train = pd.read_csv('/kaggle/input/ameshousing-csv/AmesHousing.csv')\n",
        "test = pd.read_csv('/kaggle/input/house-prices-advanced-regression-techniques/test.csv')"
      ],
      "metadata": {
        "execution": {
          "iopub.status.busy": "2024-07-07T12:31:36.99379Z",
          "iopub.execute_input": "2024-07-07T12:31:36.994181Z",
          "iopub.status.idle": "2024-07-07T12:31:37.061759Z",
          "shell.execute_reply.started": "2024-07-07T12:31:36.994154Z",
          "shell.execute_reply": "2024-07-07T12:31:37.060609Z"
        },
        "trusted": true,
        "id": "P3ONk8FCw7hk"
      },
      "execution_count": null,
      "outputs": []
    },
    {
      "cell_type": "code",
      "source": [
        "train.info()"
      ],
      "metadata": {
        "execution": {
          "iopub.status.busy": "2024-07-07T12:31:37.064229Z",
          "iopub.execute_input": "2024-07-07T12:31:37.064579Z",
          "iopub.status.idle": "2024-07-07T12:31:37.087633Z",
          "shell.execute_reply.started": "2024-07-07T12:31:37.06455Z",
          "shell.execute_reply": "2024-07-07T12:31:37.086513Z"
        },
        "trusted": true,
        "id": "kzE8mJL_w7hk"
      },
      "execution_count": null,
      "outputs": []
    },
    {
      "cell_type": "code",
      "source": [
        "train.columns = train.columns.str.replace(' ', '')\n",
        "train = train.drop(['Order','PID'], axis = 1)\n",
        "train"
      ],
      "metadata": {
        "execution": {
          "iopub.status.busy": "2024-07-07T12:31:37.089248Z",
          "iopub.execute_input": "2024-07-07T12:31:37.089685Z",
          "iopub.status.idle": "2024-07-07T12:31:37.123381Z",
          "shell.execute_reply.started": "2024-07-07T12:31:37.089644Z",
          "shell.execute_reply": "2024-07-07T12:31:37.12219Z"
        },
        "trusted": true,
        "id": "3TR4B7djw7hk"
      },
      "execution_count": null,
      "outputs": []
    },
    {
      "cell_type": "code",
      "source": [
        "train.describe()"
      ],
      "metadata": {
        "execution": {
          "iopub.status.busy": "2024-07-07T12:31:37.124799Z",
          "iopub.execute_input": "2024-07-07T12:31:37.125244Z",
          "iopub.status.idle": "2024-07-07T12:31:37.221167Z",
          "shell.execute_reply.started": "2024-07-07T12:31:37.125206Z",
          "shell.execute_reply": "2024-07-07T12:31:37.219938Z"
        },
        "trusted": true,
        "id": "M6gkKBPiw7hk"
      },
      "execution_count": null,
      "outputs": []
    },
    {
      "cell_type": "code",
      "source": [
        "test.info()"
      ],
      "metadata": {
        "execution": {
          "iopub.status.busy": "2024-07-07T12:31:37.222542Z",
          "iopub.execute_input": "2024-07-07T12:31:37.222916Z",
          "iopub.status.idle": "2024-07-07T12:31:37.241396Z",
          "shell.execute_reply.started": "2024-07-07T12:31:37.222878Z",
          "shell.execute_reply": "2024-07-07T12:31:37.240231Z"
        },
        "trusted": true,
        "id": "T9sF4FK3w7hk"
      },
      "execution_count": null,
      "outputs": []
    },
    {
      "cell_type": "code",
      "source": [
        "test.drop(['Id'], axis=1, inplace=True)\n",
        "test"
      ],
      "metadata": {
        "execution": {
          "iopub.status.busy": "2024-07-07T12:31:37.242914Z",
          "iopub.execute_input": "2024-07-07T12:31:37.243838Z",
          "iopub.status.idle": "2024-07-07T12:31:37.274612Z",
          "shell.execute_reply.started": "2024-07-07T12:31:37.243786Z",
          "shell.execute_reply": "2024-07-07T12:31:37.2736Z"
        },
        "trusted": true,
        "id": "ThO1Y_FVw7hl"
      },
      "execution_count": null,
      "outputs": []
    },
    {
      "cell_type": "code",
      "source": [
        "train_test = pd.concat([train, test], axis=0, ignore_index=True)\n",
        "train_test"
      ],
      "metadata": {
        "execution": {
          "iopub.status.busy": "2024-07-07T12:31:37.275847Z",
          "iopub.execute_input": "2024-07-07T12:31:37.276184Z",
          "iopub.status.idle": "2024-07-07T12:31:37.314759Z",
          "shell.execute_reply.started": "2024-07-07T12:31:37.276158Z",
          "shell.execute_reply": "2024-07-07T12:31:37.313643Z"
        },
        "trusted": true,
        "id": "D9V8mvngw7hl"
      },
      "execution_count": null,
      "outputs": []
    },
    {
      "cell_type": "code",
      "source": [
        "msno.matrix(train_test)"
      ],
      "metadata": {
        "execution": {
          "iopub.status.busy": "2024-07-07T12:31:37.319551Z",
          "iopub.execute_input": "2024-07-07T12:31:37.32005Z",
          "iopub.status.idle": "2024-07-07T12:31:38.039922Z",
          "shell.execute_reply.started": "2024-07-07T12:31:37.320017Z",
          "shell.execute_reply": "2024-07-07T12:31:38.038813Z"
        },
        "trusted": true,
        "id": "D3XRqoz9w7hl"
      },
      "execution_count": null,
      "outputs": []
    },
    {
      "cell_type": "code",
      "source": [
        "numerical_features = train_test.select_dtypes(include = [int, float]).columns.tolist()\n",
        "categorical_features = train_test.select_dtypes(include = 'object').columns.tolist()"
      ],
      "metadata": {
        "execution": {
          "iopub.status.busy": "2024-07-07T12:31:38.041147Z",
          "iopub.execute_input": "2024-07-07T12:31:38.041477Z",
          "iopub.status.idle": "2024-07-07T12:31:38.055492Z",
          "shell.execute_reply.started": "2024-07-07T12:31:38.041448Z",
          "shell.execute_reply": "2024-07-07T12:31:38.054158Z"
        },
        "trusted": true,
        "id": "Qj15B41Jw7hl"
      },
      "execution_count": null,
      "outputs": []
    },
    {
      "cell_type": "code",
      "source": [
        "sns.distplot(train['SalePrice'], kde=True)"
      ],
      "metadata": {
        "execution": {
          "iopub.status.busy": "2024-07-07T12:31:38.05695Z",
          "iopub.execute_input": "2024-07-07T12:31:38.057341Z",
          "iopub.status.idle": "2024-07-07T12:31:38.446397Z",
          "shell.execute_reply.started": "2024-07-07T12:31:38.057288Z",
          "shell.execute_reply": "2024-07-07T12:31:38.44524Z"
        },
        "trusted": true,
        "id": "ekEdakLsw7hl"
      },
      "execution_count": null,
      "outputs": []
    },
    {
      "cell_type": "code",
      "source": [
        "corr = train_test.select_dtypes(include=['number']).corr()\n",
        "sns.heatmap(corr, cmap='viridis')"
      ],
      "metadata": {
        "execution": {
          "iopub.status.busy": "2024-07-07T12:31:38.448078Z",
          "iopub.execute_input": "2024-07-07T12:31:38.449006Z",
          "iopub.status.idle": "2024-07-07T12:31:39.04172Z",
          "shell.execute_reply.started": "2024-07-07T12:31:38.448963Z",
          "shell.execute_reply": "2024-07-07T12:31:39.040474Z"
        },
        "trusted": true,
        "id": "doJZRpcGw7hl"
      },
      "execution_count": null,
      "outputs": []
    },
    {
      "cell_type": "code",
      "source": [
        "train_test[numerical_features].hist(bins=25, figsize=(15,15))"
      ],
      "metadata": {
        "execution": {
          "iopub.status.busy": "2024-07-07T12:31:39.043173Z",
          "iopub.execute_input": "2024-07-07T12:31:39.043588Z",
          "iopub.status.idle": "2024-07-07T12:31:46.548455Z",
          "shell.execute_reply.started": "2024-07-07T12:31:39.043557Z",
          "shell.execute_reply": "2024-07-07T12:31:46.547213Z"
        },
        "trusted": true,
        "id": "WvBL1SMpw7hm"
      },
      "execution_count": null,
      "outputs": []
    },
    {
      "cell_type": "code",
      "source": [
        "selected_features = ['SalePrice', 'OverallQual', 'GrLivArea', 'GarageCars', 'TotalBsmtSF', 'FullBath', 'YearBuilt']\n",
        "sns.pairplot(data=train_test[selected_features], size=2)"
      ],
      "metadata": {
        "execution": {
          "iopub.status.busy": "2024-07-07T12:31:46.549957Z",
          "iopub.execute_input": "2024-07-07T12:31:46.550353Z",
          "iopub.status.idle": "2024-07-07T12:32:04.005956Z",
          "shell.execute_reply.started": "2024-07-07T12:31:46.550316Z",
          "shell.execute_reply": "2024-07-07T12:32:04.004648Z"
        },
        "trusted": true,
        "id": "1VHi-3Bww7hm"
      },
      "execution_count": null,
      "outputs": []
    },
    {
      "cell_type": "code",
      "source": [
        "sns.regplot(data=train_test, x='GrLivArea', y='SalePrice')"
      ],
      "metadata": {
        "execution": {
          "iopub.status.busy": "2024-07-07T12:32:04.007602Z",
          "iopub.execute_input": "2024-07-07T12:32:04.008013Z",
          "iopub.status.idle": "2024-07-07T12:32:04.530683Z",
          "shell.execute_reply.started": "2024-07-07T12:32:04.007978Z",
          "shell.execute_reply": "2024-07-07T12:32:04.529314Z"
        },
        "trusted": true,
        "id": "29OScv-Qw7hm"
      },
      "execution_count": null,
      "outputs": []
    },
    {
      "cell_type": "code",
      "source": [
        "sns.regplot(data=train_test, x='TotalBsmtSF', y='SalePrice')"
      ],
      "metadata": {
        "execution": {
          "iopub.status.busy": "2024-07-07T12:32:04.532093Z",
          "iopub.execute_input": "2024-07-07T12:32:04.532415Z",
          "iopub.status.idle": "2024-07-07T12:32:05.034347Z",
          "shell.execute_reply.started": "2024-07-07T12:32:04.532388Z",
          "shell.execute_reply": "2024-07-07T12:32:05.033268Z"
        },
        "trusted": true,
        "id": "NjngpiqPw7hm"
      },
      "execution_count": null,
      "outputs": []
    },
    {
      "cell_type": "code",
      "source": [
        "sns.boxplot(x='OverallQual', y='SalePrice', data=train_test)"
      ],
      "metadata": {
        "execution": {
          "iopub.status.busy": "2024-07-07T12:32:05.036257Z",
          "iopub.execute_input": "2024-07-07T12:32:05.036668Z",
          "iopub.status.idle": "2024-07-07T12:32:05.403177Z",
          "shell.execute_reply.started": "2024-07-07T12:32:05.036627Z",
          "shell.execute_reply": "2024-07-07T12:32:05.402049Z"
        },
        "trusted": true,
        "id": "jWSp4cm8w7hm"
      },
      "execution_count": null,
      "outputs": []
    },
    {
      "cell_type": "code",
      "source": [
        "sns.boxplot(x='YearBuilt', y='SalePrice', data=train_test)"
      ],
      "metadata": {
        "execution": {
          "iopub.status.busy": "2024-07-07T12:32:05.404813Z",
          "iopub.execute_input": "2024-07-07T12:32:05.405165Z",
          "iopub.status.idle": "2024-07-07T12:32:07.469092Z",
          "shell.execute_reply.started": "2024-07-07T12:32:05.405137Z",
          "shell.execute_reply": "2024-07-07T12:32:07.467889Z"
        },
        "trusted": true,
        "id": "HSb0xr0Ww7hm"
      },
      "execution_count": null,
      "outputs": []
    },
    {
      "cell_type": "code",
      "source": [
        "train_test.info()"
      ],
      "metadata": {
        "execution": {
          "iopub.status.busy": "2024-07-07T12:32:07.470731Z",
          "iopub.execute_input": "2024-07-07T12:32:07.471813Z",
          "iopub.status.idle": "2024-07-07T12:32:07.49971Z",
          "shell.execute_reply.started": "2024-07-07T12:32:07.471769Z",
          "shell.execute_reply": "2024-07-07T12:32:07.498511Z"
        },
        "trusted": true,
        "id": "U4Y-t2cEw7hm"
      },
      "execution_count": null,
      "outputs": []
    },
    {
      "cell_type": "code",
      "source": [
        "train_test['MSSubClass'] = train_test['MSSubClass'].apply(str)\n",
        "train_test['YrSold'] = train_test['YrSold'].apply(str)\n",
        "train_test['MoSold'] = train_test['MoSold'].apply(str)"
      ],
      "metadata": {
        "execution": {
          "iopub.status.busy": "2024-07-07T12:32:07.500977Z",
          "iopub.execute_input": "2024-07-07T12:32:07.501284Z",
          "iopub.status.idle": "2024-07-07T12:32:07.513133Z",
          "shell.execute_reply.started": "2024-07-07T12:32:07.501257Z",
          "shell.execute_reply": "2024-07-07T12:32:07.511956Z"
        },
        "trusted": true,
        "id": "o3cfmrDow7hm"
      },
      "execution_count": null,
      "outputs": []
    },
    {
      "cell_type": "code",
      "source": [
        "train_test['Functional'] = train_test['Functional'].fillna('Typ')\n",
        "train_test['Electrical'] = train_test['Electrical'].fillna(\"SBrkr\")\n",
        "train_test['KitchenQual'] = train_test['KitchenQual'].fillna(\"TA\")\n",
        "train_test['Exterior1st'] = train_test['Exterior1st'].fillna(train_test['Exterior1st'].mode()[0])\n",
        "train_test['Exterior2nd'] = train_test['Exterior2nd'].fillna(train_test['Exterior2nd'].mode()[0])\n",
        "train_test['SaleType'] = train_test['SaleType'].fillna(train_test['SaleType'].mode()[0])\n",
        "train_test[\"PoolQC\"] = train_test[\"PoolQC\"].fillna(\"None\")\n",
        "train_test[\"Alley\"] = train_test[\"Alley\"].fillna(\"None\")\n",
        "train_test['FireplaceQu'] = train_test['FireplaceQu'].fillna(\"None\")\n",
        "train_test['Fence'] = train_test['Fence'].fillna(\"None\")\n",
        "train_test['MiscFeature'] = train_test['MiscFeature'].fillna(\"None\")\n",
        "\n",
        "for col in ('GarageArea', 'GarageCars'):\n",
        "    train_test[col] = train_test[col].fillna(0)\n",
        "\n",
        "for col in ['GarageType', 'GarageFinish', 'GarageQual', 'GarageCond']:\n",
        "    train_test[col] = train_test[col].fillna('None')\n",
        "\n",
        "for col in ('BsmtQual', 'BsmtCond', 'BsmtExposure', 'BsmtFinType1', 'BsmtFinType2'):\n",
        "    train_test[col] = train_test[col].fillna('None')"
      ],
      "metadata": {
        "execution": {
          "iopub.status.busy": "2024-07-07T12:32:07.514351Z",
          "iopub.execute_input": "2024-07-07T12:32:07.514665Z",
          "iopub.status.idle": "2024-07-07T12:32:07.543536Z",
          "shell.execute_reply.started": "2024-07-07T12:32:07.514632Z",
          "shell.execute_reply": "2024-07-07T12:32:07.542434Z"
        },
        "trusted": true,
        "id": "xXgq7UD-w7hm"
      },
      "execution_count": null,
      "outputs": []
    },
    {
      "cell_type": "code",
      "source": [
        "useless = ['GarageYrBlt', 'YearRemodAdd']\n",
        "train_test.drop(useless, axis=1, inplace=True)"
      ],
      "metadata": {
        "execution": {
          "iopub.status.busy": "2024-07-07T12:32:07.544792Z",
          "iopub.execute_input": "2024-07-07T12:32:07.54515Z",
          "iopub.status.idle": "2024-07-07T12:32:07.557288Z",
          "shell.execute_reply.started": "2024-07-07T12:32:07.545124Z",
          "shell.execute_reply": "2024-07-07T12:32:07.556095Z"
        },
        "trusted": true,
        "id": "YZJ7tb7Ew7hn"
      },
      "execution_count": null,
      "outputs": []
    },
    {
      "cell_type": "code",
      "source": [
        "missing_value = train_test.isnull().sum()\n",
        "columns_with_missing = missing_value[missing_value > 0].index.tolist()\n",
        "columns_with_missing = [col for col in columns_with_missing if train_test[col].isnull().any()]\n",
        "\n",
        "print('Columns with missing values:', columns_with_missing)"
      ],
      "metadata": {
        "execution": {
          "iopub.status.busy": "2024-07-07T12:32:07.558762Z",
          "iopub.execute_input": "2024-07-07T12:32:07.559185Z",
          "iopub.status.idle": "2024-07-07T12:32:07.583317Z",
          "shell.execute_reply.started": "2024-07-07T12:32:07.559156Z",
          "shell.execute_reply": "2024-07-07T12:32:07.582176Z"
        },
        "trusted": true,
        "id": "os2w16ohw7hn"
      },
      "execution_count": null,
      "outputs": []
    },
    {
      "cell_type": "code",
      "source": [
        "def impute_knn(df):\n",
        "    ttn = train_test.select_dtypes(include=[np.number])\n",
        "    ttc = train_test.select_dtypes(exclude=[np.number])\n",
        "\n",
        "    cols_nan = ttn.columns[ttn.isna().any()].tolist()\n",
        "    cols_no_nan = ttn.columns.difference(cols_nan).values\n",
        "\n",
        "    for col in cols_nan:\n",
        "        imp_test = ttn[ttn[col].isna()]\n",
        "        imp_train = ttn.dropna()\n",
        "        model = KNeighborsRegressor(n_neighbors=5)  # KNR Unsupervised Approach\n",
        "        knr = model.fit(imp_train[cols_no_nan], imp_train[col])\n",
        "        ttn.loc[ttn[col].isna(), col] = knr.predict(imp_test[cols_no_nan])\n",
        "\n",
        "    return pd.concat([ttn, ttc],axis=1)\n",
        "\n",
        "train_test = impute_knn(train_test)"
      ],
      "metadata": {
        "execution": {
          "iopub.status.busy": "2024-07-07T12:32:07.585039Z",
          "iopub.execute_input": "2024-07-07T12:32:07.58548Z",
          "iopub.status.idle": "2024-07-07T12:32:07.732643Z",
          "shell.execute_reply.started": "2024-07-07T12:32:07.585441Z",
          "shell.execute_reply": "2024-07-07T12:32:07.731529Z"
        },
        "trusted": true,
        "id": "VmvoQnsMw7hn"
      },
      "execution_count": null,
      "outputs": []
    },
    {
      "cell_type": "code",
      "source": [
        "objects = []\n",
        "for i in train_test.columns:\n",
        "    if train_test[i].dtype == object:\n",
        "        objects.append(i)\n",
        "\n",
        "train_test.update(train_test[objects].fillna('None'))\n",
        "train_test[columns_with_missing].isna().sum()"
      ],
      "metadata": {
        "execution": {
          "iopub.status.busy": "2024-07-07T12:32:07.734056Z",
          "iopub.execute_input": "2024-07-07T12:32:07.734474Z",
          "iopub.status.idle": "2024-07-07T12:32:07.827108Z",
          "shell.execute_reply.started": "2024-07-07T12:32:07.734438Z",
          "shell.execute_reply": "2024-07-07T12:32:07.825904Z"
        },
        "trusted": true,
        "id": "8c0IlgAkw7hn"
      },
      "execution_count": null,
      "outputs": []
    },
    {
      "cell_type": "code",
      "source": [
        "train_test[\"SqFtPerRoom\"] = train_test[\"GrLivArea\"] / (train_test[\"TotRmsAbvGrd\"] +\n",
        "                                                       train_test[\"FullBath\"] +\n",
        "                                                       train_test[\"HalfBath\"] +\n",
        "                                                       train_test[\"KitchenAbvGr\"])\n",
        "\n",
        "train_test['Total_Home_Quality'] = train_test['OverallQual'] + train_test['OverallCond']\n",
        "\n",
        "train_test['Total_Bathrooms'] = (train_test['FullBath'] + (0.5 * train_test['HalfBath']) +\n",
        "                               train_test['BsmtFullBath'] + (0.5 * train_test['BsmtHalfBath']))\n",
        "\n",
        "train_test[\"HighQualSF\"] = train_test[\"GrLivArea\"] + train_test[\"1stFlrSF\"] + train_test[\"2ndFlrSF\"] + 0.5 * train_test[\"GarageArea\"] + 0.5 * train_test[\"TotalBsmtSF\"] + 1 * train_test[\"MasVnrArea\"]\n",
        "\n",
        "train_test[\"Age\"] = pd.to_numeric(train_test[\"YrSold\"]) - pd.to_numeric(train_test[\"YearBuilt\"])\n",
        "\n",
        "train_test[\"Renovate\"] = pd.to_numeric(train_test[\"YearRemod/Add\"]) - pd.to_numeric(train_test[\"YearBuilt\"])"
      ],
      "metadata": {
        "execution": {
          "iopub.status.busy": "2024-07-07T12:32:07.828497Z",
          "iopub.execute_input": "2024-07-07T12:32:07.828999Z",
          "iopub.status.idle": "2024-07-07T12:32:07.848561Z",
          "shell.execute_reply.started": "2024-07-07T12:32:07.8289Z",
          "shell.execute_reply": "2024-07-07T12:32:07.847297Z"
        },
        "trusted": true,
        "id": "4p2Omp51w7hn"
      },
      "execution_count": null,
      "outputs": []
    },
    {
      "cell_type": "code",
      "source": [
        "train_test_dummy = pd.get_dummies(train_test)\n",
        "train_test_dummy"
      ],
      "metadata": {
        "execution": {
          "iopub.status.busy": "2024-07-07T12:32:07.855203Z",
          "iopub.execute_input": "2024-07-07T12:32:07.856037Z",
          "iopub.status.idle": "2024-07-07T12:32:07.938183Z",
          "shell.execute_reply.started": "2024-07-07T12:32:07.856002Z",
          "shell.execute_reply": "2024-07-07T12:32:07.937112Z"
        },
        "trusted": true,
        "id": "o9M_pE-Rw7hn"
      },
      "execution_count": null,
      "outputs": []
    },
    {
      "cell_type": "code",
      "source": [
        "numeric_features = train_test_dummy.dtypes[train_test_dummy.dtypes != object].index\n",
        "skewed_features = train_test_dummy[numeric_features].apply(lambda x: skew(x)).sort_values(ascending=False)\n",
        "high_skew = skewed_features[skewed_features > 0.5]\n",
        "skew_index = high_skew.index\n",
        "\n",
        "for i in skew_index:\n",
        "    train_test_dummy[i] = np.log1p(train_test_dummy[i])"
      ],
      "metadata": {
        "execution": {
          "iopub.status.busy": "2024-07-07T12:32:07.93946Z",
          "iopub.execute_input": "2024-07-07T12:32:07.939761Z",
          "iopub.status.idle": "2024-07-07T12:32:08.327774Z",
          "shell.execute_reply.started": "2024-07-07T12:32:07.939737Z",
          "shell.execute_reply": "2024-07-07T12:32:08.32661Z"
        },
        "trusted": true,
        "id": "XkmVB0v6w7hn"
      },
      "execution_count": null,
      "outputs": []
    },
    {
      "cell_type": "code",
      "source": [
        "target = train['SalePrice']\n",
        "target_log = np.log1p(target)\n",
        "\n",
        "fig, ax = plt.subplots(1, 2, figsize=(15,5))\n",
        "fig.suptitle('qq-plot & distribution SalePrice', fontsize=15)\n",
        "\n",
        "sm.qqplot(target_log, stats.t, distargs=(4,), fit=True, line='45', ax=ax[0])\n",
        "sns.distplot(target_log, kde=True, hist=True, fit=norm, ax=ax[1])\n",
        "plt.show()"
      ],
      "metadata": {
        "execution": {
          "iopub.status.busy": "2024-07-07T12:32:08.329382Z",
          "iopub.execute_input": "2024-07-07T12:32:08.330318Z",
          "iopub.status.idle": "2024-07-07T12:32:09.321457Z",
          "shell.execute_reply.started": "2024-07-07T12:32:08.330279Z",
          "shell.execute_reply": "2024-07-07T12:32:09.32045Z"
        },
        "trusted": true,
        "id": "-lmBmTI1w7hn"
      },
      "execution_count": null,
      "outputs": []
    },
    {
      "cell_type": "code",
      "source": [
        "HighQualSF_log = np.log1p(train_test[\"HighQualSF\"])\n",
        "\n",
        "fig, ax = plt.subplots(1, 2, figsize= (15, 5))\n",
        "fig.suptitle(\"qq-plot & distribution SalePrice \", fontsize=15)\n",
        "\n",
        "sm.qqplot(HighQualSF_log, stats.t, distargs=(4,), fit=True, line=\"45\", ax=ax[0])\n",
        "sns.distplot(HighQualSF_log, kde=True, hist=True, fit=norm, ax=ax[1])\n",
        "plt.show()\n",
        "\n",
        "train_test[\"HighQualSF\"] = HighQualSF_log"
      ],
      "metadata": {
        "execution": {
          "iopub.status.busy": "2024-07-07T12:32:09.322679Z",
          "iopub.execute_input": "2024-07-07T12:32:09.323017Z",
          "iopub.status.idle": "2024-07-07T12:32:10.27401Z",
          "shell.execute_reply.started": "2024-07-07T12:32:09.322989Z",
          "shell.execute_reply": "2024-07-07T12:32:10.272916Z"
        },
        "trusted": true,
        "id": "0Opa5Afrw7hn"
      },
      "execution_count": null,
      "outputs": []
    },
    {
      "cell_type": "code",
      "source": [
        "GrLivArea_log = np.log1p(train_test[\"GrLivArea\"])\n",
        "\n",
        "fig, ax = plt.subplots(1, 2, figsize= (15,5))\n",
        "fig.suptitle(\"qq-plot & distribution SalePrice \", fontsize=15)\n",
        "\n",
        "sm.qqplot(GrLivArea_log, stats.t, distargs=(4,), fit=True, line=\"45\", ax=ax[0])\n",
        "sns.distplot(GrLivArea_log, kde=True, hist=True, fit = norm, ax=ax[1])\n",
        "plt.show()\n",
        "\n",
        "train_test[\"GrLivArea\"]= GrLivArea_log"
      ],
      "metadata": {
        "execution": {
          "iopub.status.busy": "2024-07-07T12:32:10.275495Z",
          "iopub.execute_input": "2024-07-07T12:32:10.275942Z",
          "iopub.status.idle": "2024-07-07T12:32:11.187412Z",
          "shell.execute_reply.started": "2024-07-07T12:32:10.275901Z",
          "shell.execute_reply": "2024-07-07T12:32:11.186285Z"
        },
        "trusted": true,
        "id": "HAIqTwR-w7ho"
      },
      "execution_count": null,
      "outputs": []
    },
    {
      "cell_type": "code",
      "source": [
        "train = train_test_dummy[0:2930]\n",
        "test = train_test_dummy[2930:]\n",
        "test.drop('SalePrice', axis=1, inplace=True)"
      ],
      "metadata": {
        "execution": {
          "iopub.status.busy": "2024-07-07T12:32:11.188735Z",
          "iopub.execute_input": "2024-07-07T12:32:11.189384Z",
          "iopub.status.idle": "2024-07-07T12:32:11.21037Z",
          "shell.execute_reply.started": "2024-07-07T12:32:11.189354Z",
          "shell.execute_reply": "2024-07-07T12:32:11.209324Z"
        },
        "trusted": true,
        "id": "EzrZJ5EBw7ho"
      },
      "execution_count": null,
      "outputs": []
    },
    {
      "cell_type": "code",
      "source": [
        "ytrain = target_log\n",
        "xtrain = train.drop('SalePrice', axis=1)\n",
        "\n",
        "X_train, X_val, y_train, y_val = train_test_split(xtrain, ytrain, test_size=0.5, random_state=42 )\n",
        "X_train, y_train = xtrain, ytrain\n",
        "X_train"
      ],
      "metadata": {
        "execution": {
          "iopub.status.busy": "2024-07-07T12:32:11.211682Z",
          "iopub.execute_input": "2024-07-07T12:32:11.21204Z",
          "iopub.status.idle": "2024-07-07T12:32:11.282787Z",
          "shell.execute_reply.started": "2024-07-07T12:32:11.212011Z",
          "shell.execute_reply": "2024-07-07T12:32:11.281733Z"
        },
        "trusted": true,
        "id": "KO73lUBqw7ho"
      },
      "execution_count": null,
      "outputs": []
    },
    {
      "cell_type": "code",
      "source": [
        "X_val"
      ],
      "metadata": {
        "execution": {
          "iopub.status.busy": "2024-07-07T12:32:11.284149Z",
          "iopub.execute_input": "2024-07-07T12:32:11.284467Z",
          "iopub.status.idle": "2024-07-07T12:32:11.322326Z",
          "shell.execute_reply.started": "2024-07-07T12:32:11.284441Z",
          "shell.execute_reply": "2024-07-07T12:32:11.321314Z"
        },
        "trusted": true,
        "id": "aYCsPYUXw7ho"
      },
      "execution_count": null,
      "outputs": []
    },
    {
      "cell_type": "code",
      "source": [
        "final_model = CatBoostRegressor(random_seed=42)"
      ],
      "metadata": {
        "execution": {
          "iopub.status.busy": "2024-07-07T12:32:11.323599Z",
          "iopub.execute_input": "2024-07-07T12:32:11.323941Z",
          "iopub.status.idle": "2024-07-07T12:32:11.331046Z",
          "shell.execute_reply.started": "2024-07-07T12:32:11.323914Z",
          "shell.execute_reply": "2024-07-07T12:32:11.328867Z"
        },
        "trusted": true,
        "id": "84iNJMtNw7ho"
      },
      "execution_count": null,
      "outputs": []
    },
    {
      "cell_type": "code",
      "source": [
        "final_model.fit(X_train, y_train, eval_set=(X_val, y_val), verbose=False)"
      ],
      "metadata": {
        "execution": {
          "iopub.status.busy": "2024-07-07T12:32:11.332787Z",
          "iopub.execute_input": "2024-07-07T12:32:11.333162Z",
          "iopub.status.idle": "2024-07-07T12:32:17.121393Z",
          "shell.execute_reply.started": "2024-07-07T12:32:11.333133Z",
          "shell.execute_reply": "2024-07-07T12:32:17.120181Z"
        },
        "trusted": true,
        "id": "YCPscdhBw7ho"
      },
      "execution_count": null,
      "outputs": []
    },
    {
      "cell_type": "code",
      "source": [
        "final_model.get_all_params()"
      ],
      "metadata": {
        "execution": {
          "iopub.status.busy": "2024-07-07T12:32:17.122741Z",
          "iopub.execute_input": "2024-07-07T12:32:17.123345Z",
          "iopub.status.idle": "2024-07-07T12:32:17.131366Z",
          "shell.execute_reply.started": "2024-07-07T12:32:17.123301Z",
          "shell.execute_reply": "2024-07-07T12:32:17.130205Z"
        },
        "trusted": true,
        "id": "UK4YJCOqw7ho"
      },
      "execution_count": null,
      "outputs": []
    },
    {
      "cell_type": "code",
      "source": [
        "def rmse(y, y_pred):\n",
        "    return np.sqrt(mean_squared_error(y, y_pred))"
      ],
      "metadata": {
        "execution": {
          "iopub.status.busy": "2024-07-07T12:32:17.13272Z",
          "iopub.execute_input": "2024-07-07T12:32:17.133082Z",
          "iopub.status.idle": "2024-07-07T12:32:17.144129Z",
          "shell.execute_reply.started": "2024-07-07T12:32:17.133053Z",
          "shell.execute_reply": "2024-07-07T12:32:17.142918Z"
        },
        "trusted": true,
        "id": "P12xd8ofw7ht"
      },
      "execution_count": null,
      "outputs": []
    },
    {
      "cell_type": "code",
      "source": [
        "final_pred = final_model.predict(X_val)"
      ],
      "metadata": {
        "execution": {
          "iopub.status.busy": "2024-07-07T12:32:17.145612Z",
          "iopub.execute_input": "2024-07-07T12:32:17.145986Z",
          "iopub.status.idle": "2024-07-07T12:32:17.301477Z",
          "shell.execute_reply.started": "2024-07-07T12:32:17.145958Z",
          "shell.execute_reply": "2024-07-07T12:32:17.300266Z"
        },
        "trusted": true,
        "id": "N5jvVt2nw7ht"
      },
      "execution_count": null,
      "outputs": []
    },
    {
      "cell_type": "code",
      "source": [
        "final_score = rmse(y_val, final_pred)\n",
        "final_score"
      ],
      "metadata": {
        "execution": {
          "iopub.status.busy": "2024-07-07T12:32:17.303149Z",
          "iopub.execute_input": "2024-07-07T12:32:17.304008Z",
          "iopub.status.idle": "2024-07-07T12:32:17.311992Z",
          "shell.execute_reply.started": "2024-07-07T12:32:17.303966Z",
          "shell.execute_reply": "2024-07-07T12:32:17.310896Z"
        },
        "trusted": true,
        "id": "V_jBiqGxw7ht"
      },
      "execution_count": null,
      "outputs": []
    },
    {
      "cell_type": "code",
      "source": [
        "submission = pd.read_csv('/kaggle/input/house-prices-advanced-regression-techniques/sample_submission.csv')\n",
        "test_pred = np.expm1(final_model.predict(test))"
      ],
      "metadata": {
        "execution": {
          "iopub.status.busy": "2024-07-07T12:32:17.313793Z",
          "iopub.execute_input": "2024-07-07T12:32:17.314247Z",
          "iopub.status.idle": "2024-07-07T12:32:17.486576Z",
          "shell.execute_reply.started": "2024-07-07T12:32:17.314209Z",
          "shell.execute_reply": "2024-07-07T12:32:17.485368Z"
        },
        "trusted": true,
        "id": "99VCRV0Iw7hu"
      },
      "execution_count": null,
      "outputs": []
    },
    {
      "cell_type": "code",
      "source": [
        "submission['SalePrice'] = test_pred\n",
        "submission"
      ],
      "metadata": {
        "execution": {
          "iopub.status.busy": "2024-07-07T12:32:17.487946Z",
          "iopub.execute_input": "2024-07-07T12:32:17.488301Z",
          "iopub.status.idle": "2024-07-07T12:32:17.501058Z",
          "shell.execute_reply.started": "2024-07-07T12:32:17.488271Z",
          "shell.execute_reply": "2024-07-07T12:32:17.500005Z"
        },
        "trusted": true,
        "id": "htU2gTIKw7hu"
      },
      "execution_count": null,
      "outputs": []
    },
    {
      "cell_type": "code",
      "source": [
        "submission.to_csv(\"submission.csv\", index=False, header=True)"
      ],
      "metadata": {
        "execution": {
          "iopub.status.busy": "2024-07-07T12:32:17.502237Z",
          "iopub.execute_input": "2024-07-07T12:32:17.502577Z",
          "iopub.status.idle": "2024-07-07T12:32:17.516202Z",
          "shell.execute_reply.started": "2024-07-07T12:32:17.502541Z",
          "shell.execute_reply": "2024-07-07T12:32:17.514989Z"
        },
        "trusted": true,
        "id": "h3jCTO33w7hu"
      },
      "execution_count": null,
      "outputs": []
    }
  ]
}